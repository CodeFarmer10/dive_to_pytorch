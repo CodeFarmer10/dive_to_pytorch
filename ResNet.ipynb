{
 "cells": [
  {
   "cell_type": "code",
   "execution_count": 1,
   "metadata": {},
   "outputs": [],
   "source": [
    "import torch"
   ]
  },
  {
   "cell_type": "code",
   "execution_count": 2,
   "metadata": {},
   "outputs": [],
   "source": [
    "from torch import nn,optim\n",
    "import torch.nn.functional as F"
   ]
  },
  {
   "cell_type": "code",
   "execution_count": 3,
   "metadata": {},
   "outputs": [],
   "source": [
    "class ResBolck(nn.Module):\n",
    "    def __init__(self,in_channels,out_channels,use1conv=True,stride=1):\n",
    "        super(ResBolck,self).__init__()\n",
    "        self.con1=nn.Conv2d(in_channels,out_channels,kernel_size=3,padding=1)\n",
    "        self.con2=nn.Conv2d(out_channels,out_channels,kernel_size=3,padding=1,stride=stride)\n",
    "        \n",
    "        if use1conv:\n",
    "            self.con3=nn.Conv2d(in_channels,out_channels,kernel_size=3,padding=1,stride=stride)\n",
    "        else:\n",
    "            self.con3=None\n",
    "        \n",
    "        self.bn1=nn.BatchNorm2d(out_channels)\n",
    "        self.bn2=nn.BatchNorm2d(out_channels)\n",
    "    def forward(self,x):\n",
    "        y=F.relu(self.bn1(self.con1(x)))\n",
    "        y=self.bn2(self.con2(y))\n",
    "        if self.con3:\n",
    "            x=self.con3(x)\n",
    "        return F.relu(y+x)"
   ]
  },
  {
   "cell_type": "code",
   "execution_count": 4,
   "metadata": {},
   "outputs": [
    {
     "data": {
      "text/plain": [
       "torch.Size([4, 3, 6, 6])"
      ]
     },
     "execution_count": 4,
     "metadata": {},
     "output_type": "execute_result"
    }
   ],
   "source": [
    "blk=ResBolck(3,3)\n",
    "x=torch.rand((4,3,6,6))\n",
    "blk(x).shape"
   ]
  },
  {
   "cell_type": "code",
   "execution_count": 5,
   "metadata": {},
   "outputs": [],
   "source": [
    "net=nn.Sequential(\n",
    "    nn.Conv2d(1,64,kernel_size=7,stride=2,padding=3),\n",
    "    nn.BatchNorm2d(64),\n",
    "    nn.ReLU(),\n",
    "    nn.MaxPool2d(kernel_size=3,stride=2,padding=1)\n",
    ")"
   ]
  },
  {
   "cell_type": "code",
   "execution_count": 6,
   "metadata": {},
   "outputs": [],
   "source": [
    "def resnet_block(in_channels,out_channels,num_residuals,first_block=False):\n",
    "    if first_block:\n",
    "        assert in_channels==out_channels\n",
    "    blk=[]\n",
    "    for i in range(num_residuals):\n",
    "        if i==0 and not first_block:\n",
    "            blk.append(ResBolck(in_channels,out_channels,use1conv=True,stride=2))\n",
    "        else:\n",
    "            blk.append(ResBolck(out_channels,out_channels))\n",
    "    return nn.Sequential(*blk)"
   ]
  },
  {
   "cell_type": "code",
   "execution_count": 7,
   "metadata": {},
   "outputs": [],
   "source": [
    "net.add_module(\"resnet_block1\",resnet_block(64,64,2,first_block=True))\n",
    "net.add_module(\"resnet_block2\",resnet_block(64,128,2,first_block=False))\n",
    "net.add_module(\"resnet_block3\",resnet_block(128,256,2,first_block=False))\n",
    "net.add_module(\"resnet_block4\",resnet_block(256,512,2,first_block=False))"
   ]
  },
  {
   "cell_type": "code",
   "execution_count": 8,
   "metadata": {},
   "outputs": [],
   "source": [
    "class Global_Avg_Pool(nn.Module):\n",
    "    def __init__(self):\n",
    "        super(Global_Avg_Pool,self).__init__()\n",
    "    def forward(self,x):\n",
    "        x=x.view(x.shape[0],x.shape[1],-1)\n",
    "        x=x.mean(dim=2,keepdim=True)\n",
    "        x=x.unsqueeze(2)\n",
    "        return x"
   ]
  },
  {
   "cell_type": "code",
   "execution_count": 9,
   "metadata": {},
   "outputs": [],
   "source": [
    "class FlaternLayer(nn.Module):\n",
    "    def __init__(self):\n",
    "        super(FlaternLayer,self).__init__()\n",
    "    def forward(self,x):\n",
    "        x=x.view((x.shape[0],-1))\n",
    "        print(x.shape)\n",
    "        return x"
   ]
  },
  {
   "cell_type": "code",
   "execution_count": 10,
   "metadata": {},
   "outputs": [],
   "source": [
    "net.add_module(\"globalavg\",Global_Avg_Pool())\n",
    "net.add_module(\"fc\",nn.Sequential(FlaternLayer(),nn.Linear(512,10)))"
   ]
  },
  {
   "cell_type": "code",
   "execution_count": 11,
   "metadata": {},
   "outputs": [
    {
     "name": "stdout",
     "output_type": "stream",
     "text": [
      "0 torch.Size([1, 64, 112, 112])\n",
      "1 torch.Size([1, 64, 112, 112])\n",
      "2 torch.Size([1, 64, 112, 112])\n",
      "3 torch.Size([1, 64, 56, 56])\n",
      "resnet_block1 torch.Size([1, 64, 56, 56])\n",
      "resnet_block2 torch.Size([1, 128, 28, 28])\n",
      "resnet_block3 torch.Size([1, 256, 14, 14])\n",
      "resnet_block4 torch.Size([1, 512, 7, 7])\n",
      "globalavg torch.Size([1, 512, 1, 1])\n",
      "torch.Size([1, 512])\n",
      "fc torch.Size([1, 10])\n"
     ]
    }
   ],
   "source": [
    "x=torch.rand((1,1,224,224))\n",
    "for name,layer in net.named_children():\n",
    "    x=layer(x)\n",
    "    print(name,x.shape)"
   ]
  },
  {
   "cell_type": "code",
   "execution_count": 12,
   "metadata": {},
   "outputs": [],
   "source": [
    "import torchvision"
   ]
  },
  {
   "cell_type": "code",
   "execution_count": null,
   "metadata": {},
   "outputs": [],
   "source": []
  }
 ],
 "metadata": {
  "kernelspec": {
   "display_name": "Python 3",
   "language": "python",
   "name": "python3"
  },
  "language_info": {
   "codemirror_mode": {
    "name": "ipython",
    "version": 3
   },
   "file_extension": ".py",
   "mimetype": "text/x-python",
   "name": "python",
   "nbconvert_exporter": "python",
   "pygments_lexer": "ipython3",
   "version": "3.7.0"
  }
 },
 "nbformat": 4,
 "nbformat_minor": 2
}
